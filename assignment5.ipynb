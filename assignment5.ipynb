{
  "nbformat": 4,
  "nbformat_minor": 0,
  "metadata": {
    "colab": {
      "provenance": [],
      "authorship_tag": "ABX9TyNDfcQGE5aWbpcYu+jBp3pQ",
      "include_colab_link": true
    },
    "kernelspec": {
      "name": "python3",
      "display_name": "Python 3"
    },
    "language_info": {
      "name": "python"
    }
  },
  "cells": [
    {
      "cell_type": "markdown",
      "metadata": {
        "id": "view-in-github",
        "colab_type": "text"
      },
      "source": [
        "<a href=\"https://colab.research.google.com/github/Surajpanjiyar/5th-assignment-python/blob/main/assignment5.ipynb\" target=\"_parent\"><img src=\"https://colab.research.google.com/assets/colab-badge.svg\" alt=\"Open In Colab\"/></a>"
      ]
    },
    {
      "cell_type": "code",
      "source": [
        "# Problem_1 :-\n",
        "\n",
        "\n",
        "class Point:\n",
        "\n",
        "    def __init__(self, x, y, z):\n",
        "        self.x = x\n",
        "        self.y = y\n",
        "        self.z = z\n",
        "\n",
        "    def sqSum(self):\n",
        "        return self.x ** 2 + self.y ** 2 + self.z ** 2\n",
        "\n",
        "point = Point(1, 3, 5)\n",
        "\n",
        "print(point.sqSum())\n"
      ],
      "metadata": {
        "colab": {
          "base_uri": "https://localhost:8080/"
        },
        "id": "4R5fXW60W-bW",
        "outputId": "4323aca6-0d38-4d81-cd0b-c26af9d88a75"
      },
      "execution_count": 12,
      "outputs": [
        {
          "output_type": "stream",
          "name": "stdout",
          "text": [
            "35\n"
          ]
        }
      ]
    },
    {
      "cell_type": "code",
      "source": [
        "# Problem_2 :-\n",
        "\n",
        "\n",
        "class Calculator:\n",
        "\n",
        "    def __init__(self):\n",
        "        pass\n",
        "    def add(self):\n",
        "        pass\n",
        "    def subtract(self):\n",
        "        pass\n",
        "    def multiply(self):\n",
        "        pass\n",
        "    def divide(self):\n",
        "        pass\n",
        "\n",
        "class Calculator:\n",
        "\n",
        "    def __init__(self, num1, num2):\n",
        "        self.num1 = num1\n",
        "        self.num2 = num2\n",
        "\n",
        "    def add(self):\n",
        "        return self.num1 + self.num2\n",
        "\n",
        "    def subtract(self):\n",
        "        return self.num2 - self.num1\n",
        "\n",
        "    def multiply(self):\n",
        "        return self.num1 * self.num2\n",
        "\n",
        "    def divide(self):\n",
        "        if self.num1 == 0:\n",
        "            return \"Cannot divide by zero\"\n",
        "        return self.num2 / self.num1\n",
        "\n",
        "obj = Calculator(10, 94)\n",
        "\n",
        "print(obj.add())\n",
        "print(obj.subtract())\n",
        "print(obj.multiply())\n",
        "print(obj.divide())\n"
      ],
      "metadata": {
        "colab": {
          "base_uri": "https://localhost:8080/"
        },
        "id": "3OE4BoWfYQ7D",
        "outputId": "5bfa5641-f54c-4244-d253-04ce0dcacf82"
      },
      "execution_count": 15,
      "outputs": [
        {
          "output_type": "stream",
          "name": "stdout",
          "text": [
            "104\n",
            "84\n",
            "940\n",
            "9.4\n"
          ]
        }
      ]
    },
    {
      "cell_type": "code",
      "source": [
        "# Problem_3 :-\n",
        "\n",
        "class Student:\n",
        "\n",
        "    def setName(self, name):\n",
        "        self.__name = name\n",
        "\n",
        "    def getName(self):\n",
        "        return self.__name\n",
        "\n",
        "    def setRollNumber(self, rollNumber):\n",
        "        self.__rollNumber = rollNumber\n",
        "\n",
        "    def getRollNumber(self):\n",
        "        return self.__rollNumber\n",
        "\n",
        "\n",
        "student = Student()\n",
        "\n",
        "student.setName(\"SURAJ PANJIYAR\")\n",
        "student.setRollNumber(1870017)\n",
        "\n",
        "print(\"Name:\", student.getName())\n",
        "print(\"Roll Number:\", student.getRollNumber())\n"
      ],
      "metadata": {
        "colab": {
          "base_uri": "https://localhost:8080/"
        },
        "id": "J7SN0TKAaMRz",
        "outputId": "7d0a8793-38bd-4e30-ab5d-35f8ce30fd72"
      },
      "execution_count": 20,
      "outputs": [
        {
          "output_type": "stream",
          "name": "stdout",
          "text": [
            "Name: SURAJ PANJIYAR\n",
            "Roll Number: 1870017\n"
          ]
        }
      ]
    },
    {
      "cell_type": "code",
      "source": [
        "# Problem_4 :-\n",
        "\n",
        "class Account:\n",
        "\n",
        "    def __init__(self, title, balance):\n",
        "        self.title = title\n",
        "        self.balance = balance\n",
        "\n",
        "class SavingsAccount(Account):\n",
        "\n",
        "    def __init__(self, title, balance, interestRate):\n",
        "        super().__init__(title, balance)\n",
        "        self.interestRate = interestRate\n",
        "\n",
        "\n",
        "savings_account = SavingsAccount(\"Ashish\", 5000, 5)\n",
        "\n",
        "\n",
        "print(\"Title:\", savings_account.title)\n",
        "print(\"Balance:\", savings_account.balance)\n",
        "print(\"Interest Rate:\", savings_account.interestRate)\n"
      ],
      "metadata": {
        "colab": {
          "base_uri": "https://localhost:8080/"
        },
        "id": "qOWIVlLTbNcO",
        "outputId": "29a9e132-60a7-4f55-b8a1-b58b385b9da4"
      },
      "execution_count": 21,
      "outputs": [
        {
          "output_type": "stream",
          "name": "stdout",
          "text": [
            "Title: Ashish\n",
            "Balance: 5000\n",
            "Interest Rate: 5\n"
          ]
        }
      ]
    },
    {
      "cell_type": "code",
      "source": [
        "# Problem_5 :-\n",
        "\n",
        "class Account:\n",
        "    def __init__(self, title=None, balance=0):\n",
        "        self.title = title\n",
        "        self.balance = balance\n",
        "\n",
        "    def withdrawal(self, amount):\n",
        "        self.balance -= amount\n",
        "\n",
        "    def deposit(self, amount):\n",
        "        self.balance += amount\n",
        "\n",
        "    def getBalance(self):\n",
        "        return self.balance\n",
        "\n",
        "class SavingsAccount(Account):\n",
        "    def __init__(self, title=None, balance=0, interestRate=0):\n",
        "        super().__init__(title, balance)\n",
        "        self.interestRate = interestRate\n",
        "\n",
        "    def interestAmount(self):\n",
        "        return (self.balance * self.interestRate) / 100\n",
        "\n",
        "\n",
        "demo1 = SavingsAccount(\"Ashish\", 2000, 5)\n",
        "\n",
        "demo1.withdrawal(500)\n",
        "demo1.deposit(1000)\n",
        "\n",
        "print(\"Balance:\", demo1.getBalance())\n",
        "print(\"Interest Amount:\", demo1.interestAmount())\n"
      ],
      "metadata": {
        "colab": {
          "base_uri": "https://localhost:8080/"
        },
        "id": "A_HxXCLVcXiQ",
        "outputId": "56e5c91d-ba51-4355-a576-9ee9e8eca348"
      },
      "execution_count": 22,
      "outputs": [
        {
          "output_type": "stream",
          "name": "stdout",
          "text": [
            "Balance: 2500\n",
            "Interest Amount: 125.0\n"
          ]
        }
      ]
    }
  ]
}